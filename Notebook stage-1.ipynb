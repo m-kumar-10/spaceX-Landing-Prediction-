{
    "cells": [
        {
            "cell_type": "markdown",
            "metadata": {},
            "source": "Hello Peter!  \n<img src='https://i.kym-cdn.com/entries/icons/original/000/038/127/hpcover.jpg' width=500>"
        },
        {
            "cell_type": "code",
            "execution_count": 3,
            "metadata": {},
            "outputs": [
                {
                    "name": "stdout",
                    "output_type": "stream",
                    "text": "Hi uncle otto octavius !\n"
                }
            ],
            "source": "print('Hi uncle otto octavius !')"
        },
        {
            "cell_type": "code",
            "execution_count": null,
            "metadata": {},
            "outputs": [],
            "source": ""
        }
    ],
    "metadata": {
        "kernelspec": {
            "display_name": "Python 3.8",
            "language": "python",
            "name": "python3"
        },
        "language_info": {
            "codemirror_mode": {
                "name": "ipython",
                "version": 3
            },
            "file_extension": ".py",
            "mimetype": "text/x-python",
            "name": "python",
            "nbconvert_exporter": "python",
            "pygments_lexer": "ipython3",
            "version": "3.8.12"
        }
    },
    "nbformat": 4,
    "nbformat_minor": 1
}